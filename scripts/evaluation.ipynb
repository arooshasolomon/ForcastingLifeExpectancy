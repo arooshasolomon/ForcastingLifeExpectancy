{
 "cells": [
  {
   "cell_type": "code",
   "execution_count": null,
   "metadata": {},
   "outputs": [],
   "source": [
    "'''\n",
    "TO-DO:\n",
    "- computes MAE for model comparisons\n",
    "- generates performance plots (comparing predicted vs actual)\n",
    "'''"
   ]
  }
 ],
 "metadata": {
  "language_info": {
   "name": "python"
  }
 },
 "nbformat": 4,
 "nbformat_minor": 2
}
