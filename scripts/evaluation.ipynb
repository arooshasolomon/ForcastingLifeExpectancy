{
 "cells": [
  {
   "cell_type": "code",
   "execution_count": null,
   "metadata": {},
   "outputs": [],
   "source": [
    "'''\n",
    "TO-DO:\n",
    "- computes MAE for model comparisons\n",
    "- generates performance plots (comparing predicted vs actual)\n",
    "\n",
    "Baseline model: ARIMA\n",
    "Models with external regressors: Facebook Prophet (3 different models)\n",
    "Calculate MAE of each model and compare to see which one performs the best\n",
    "Intepret the results\n",
    "'''"
   ]
  }
 ],
 "metadata": {
  "language_info": {
   "name": "python"
  }
 },
 "nbformat": 4,
 "nbformat_minor": 2
}
